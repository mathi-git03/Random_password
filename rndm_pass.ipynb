{
 "cells": [
  {
   "cell_type": "markdown",
   "id": "2e900a0c",
   "metadata": {},
   "source": [
    "## Random password"
   ]
  },
  {
   "cell_type": "code",
   "execution_count": 1,
   "id": "57645c05",
   "metadata": {},
   "outputs": [
    {
     "name": "stdout",
     "output_type": "stream",
     "text": [
      "Enter the length of password: 8\n",
      "Wv9Y!3&N\n"
     ]
    }
   ],
   "source": [
    "import random\n",
    "\n",
    "passlen = int(input(\"Enter the length of password: \"))\n",
    "s=\"abcdefghijklmnopqrstuvwxyz0123456789ABCDEFGHIJKLMNOPQRSTUVWXYZ!@#$%^&*?\"\n",
    "p = \"\".join(random.sample(s,passlen))\n",
    "print(p)"
   ]
  },
  {
   "cell_type": "code",
   "execution_count": null,
   "id": "c4c51d50",
   "metadata": {},
   "outputs": [],
   "source": []
  }
 ],
 "metadata": {
  "kernelspec": {
   "display_name": "Python 3",
   "language": "python",
   "name": "python3"
  },
  "language_info": {
   "codemirror_mode": {
    "name": "ipython",
    "version": 3
   },
   "file_extension": ".py",
   "mimetype": "text/x-python",
   "name": "python",
   "nbconvert_exporter": "python",
   "pygments_lexer": "ipython3",
   "version": "3.8.8"
  }
 },
 "nbformat": 4,
 "nbformat_minor": 5
}
